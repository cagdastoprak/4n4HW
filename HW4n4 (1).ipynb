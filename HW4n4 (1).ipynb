{
  "nbformat": 4,
  "nbformat_minor": 0,
  "metadata": {
    "colab": {
      "name": "HW4n4.ipynb",
      "provenance": []
    },
    "kernelspec": {
      "name": "python3",
      "display_name": "Python 3"
    }
  },
  "cells": [
    {
      "cell_type": "code",
      "metadata": {
        "id": "Keah0uEVjRb_",
        "colab_type": "code",
        "outputId": "e71b2e27-bf81-4955-b3b4-ffc272167258",
        "colab": {
          "base_uri": "https://localhost:8080/",
          "height": 121
        }
      },
      "source": [
        "from google.colab import drive\n",
        "drive.mount('/content/drive')"
      ],
      "execution_count": 2,
      "outputs": [
        {
          "output_type": "stream",
          "text": [
            "Go to this URL in a browser: https://accounts.google.com/o/oauth2/auth?client_id=947318989803-6bn6qk8qdgf4n4g3pfee6491hc0brc4i.apps.googleusercontent.com&redirect_uri=urn%3aietf%3awg%3aoauth%3a2.0%3aoob&response_type=code&scope=email%20https%3a%2f%2fwww.googleapis.com%2fauth%2fdocs.test%20https%3a%2f%2fwww.googleapis.com%2fauth%2fdrive%20https%3a%2f%2fwww.googleapis.com%2fauth%2fdrive.photos.readonly%20https%3a%2f%2fwww.googleapis.com%2fauth%2fpeopleapi.readonly\n",
            "\n",
            "Enter your authorization code:\n",
            "··········\n",
            "Mounted at /content/drive\n"
          ],
          "name": "stdout"
        }
      ]
    },
    {
      "cell_type": "code",
      "metadata": {
        "id": "XjraaTgID0XN",
        "colab_type": "code",
        "colab": {
          "base_uri": "https://localhost:8080/",
          "height": 50
        },
        "outputId": "e22b699d-6f2a-4983-8c31-9d1471d46022"
      },
      "source": [
        "%cd /content/drive/My\\ Drive/Colab\\ Notebooks/data \n",
        "# change directory\n",
        "%pwd  # Ben neredeyim komutu\n",
        "!ls    # İçerisinde ne var "
      ],
      "execution_count": 3,
      "outputs": [
        {
          "output_type": "stream",
          "text": [
            "/content/drive/My Drive/Colab Notebooks/data\n",
            "states_all.csv\n"
          ],
          "name": "stdout"
        }
      ]
    },
    {
      "cell_type": "code",
      "metadata": {
        "id": "6e8Fwbp2LYHV",
        "colab_type": "code",
        "colab": {
          "base_uri": "https://localhost:8080/",
          "height": 70
        },
        "outputId": "3d9c4f94-4941-4c9b-e045-e128b67c6513"
      },
      "source": [
        "import pandas as pd\n",
        "import numpy as np\n",
        "import matplotlib.pyplot as plt\n",
        "import warnings\n",
        "import seaborn as sns\n",
        "\n",
        "pd.options.display.float_format = '{:.2f}'.format\n",
        "warnings.filterwarnings('ignore')"
      ],
      "execution_count": 4,
      "outputs": [
        {
          "output_type": "stream",
          "text": [
            "/usr/local/lib/python3.6/dist-packages/statsmodels/tools/_testing.py:19: FutureWarning: pandas.util.testing is deprecated. Use the functions in the public API at pandas.testing instead.\n",
            "  import pandas.util.testing as tm\n"
          ],
          "name": "stderr"
        }
      ]
    },
    {
      "cell_type": "code",
      "metadata": {
        "id": "qKXF7TKBMGHa",
        "colab_type": "code",
        "outputId": "67e9287c-4151-4b3f-c22b-5449601127b0",
        "colab": {
          "base_uri": "https://localhost:8080/",
          "height": 215
        }
      },
      "source": [
        "original_data = pd.read_csv(\"states_all.csv\")\n",
        "original_data.head()"
      ],
      "execution_count": 5,
      "outputs": [
        {
          "output_type": "execute_result",
          "data": {
            "text/html": [
              "<div>\n",
              "<style scoped>\n",
              "    .dataframe tbody tr th:only-of-type {\n",
              "        vertical-align: middle;\n",
              "    }\n",
              "\n",
              "    .dataframe tbody tr th {\n",
              "        vertical-align: top;\n",
              "    }\n",
              "\n",
              "    .dataframe thead th {\n",
              "        text-align: right;\n",
              "    }\n",
              "</style>\n",
              "<table border=\"1\" class=\"dataframe\">\n",
              "  <thead>\n",
              "    <tr style=\"text-align: right;\">\n",
              "      <th></th>\n",
              "      <th>PRIMARY_KEY</th>\n",
              "      <th>STATE</th>\n",
              "      <th>YEAR</th>\n",
              "      <th>ENROLL</th>\n",
              "      <th>TOTAL_REVENUE</th>\n",
              "      <th>FEDERAL_REVENUE</th>\n",
              "      <th>STATE_REVENUE</th>\n",
              "      <th>LOCAL_REVENUE</th>\n",
              "      <th>TOTAL_EXPENDITURE</th>\n",
              "      <th>INSTRUCTION_EXPENDITURE</th>\n",
              "      <th>SUPPORT_SERVICES_EXPENDITURE</th>\n",
              "      <th>OTHER_EXPENDITURE</th>\n",
              "      <th>CAPITAL_OUTLAY_EXPENDITURE</th>\n",
              "      <th>GRADES_PK_G</th>\n",
              "      <th>GRADES_KG_G</th>\n",
              "      <th>GRADES_4_G</th>\n",
              "      <th>GRADES_8_G</th>\n",
              "      <th>GRADES_12_G</th>\n",
              "      <th>GRADES_1_8_G</th>\n",
              "      <th>GRADES_9_12_G</th>\n",
              "      <th>GRADES_ALL_G</th>\n",
              "      <th>AVG_MATH_4_SCORE</th>\n",
              "      <th>AVG_MATH_8_SCORE</th>\n",
              "      <th>AVG_READING_4_SCORE</th>\n",
              "      <th>AVG_READING_8_SCORE</th>\n",
              "    </tr>\n",
              "  </thead>\n",
              "  <tbody>\n",
              "    <tr>\n",
              "      <th>0</th>\n",
              "      <td>1992_ALABAMA</td>\n",
              "      <td>ALABAMA</td>\n",
              "      <td>1992</td>\n",
              "      <td>nan</td>\n",
              "      <td>2678885.00</td>\n",
              "      <td>304177.00</td>\n",
              "      <td>1659028.00</td>\n",
              "      <td>715680.00</td>\n",
              "      <td>2653798.00</td>\n",
              "      <td>1481703.00</td>\n",
              "      <td>735036.00</td>\n",
              "      <td>nan</td>\n",
              "      <td>174053.00</td>\n",
              "      <td>8224.00</td>\n",
              "      <td>55460.00</td>\n",
              "      <td>57948.00</td>\n",
              "      <td>58025.00</td>\n",
              "      <td>41167.00</td>\n",
              "      <td>nan</td>\n",
              "      <td>nan</td>\n",
              "      <td>731634.00</td>\n",
              "      <td>208.00</td>\n",
              "      <td>252.00</td>\n",
              "      <td>207.00</td>\n",
              "      <td>nan</td>\n",
              "    </tr>\n",
              "    <tr>\n",
              "      <th>1</th>\n",
              "      <td>1992_ALASKA</td>\n",
              "      <td>ALASKA</td>\n",
              "      <td>1992</td>\n",
              "      <td>nan</td>\n",
              "      <td>1049591.00</td>\n",
              "      <td>106780.00</td>\n",
              "      <td>720711.00</td>\n",
              "      <td>222100.00</td>\n",
              "      <td>972488.00</td>\n",
              "      <td>498362.00</td>\n",
              "      <td>350902.00</td>\n",
              "      <td>nan</td>\n",
              "      <td>37451.00</td>\n",
              "      <td>2371.00</td>\n",
              "      <td>10152.00</td>\n",
              "      <td>9748.00</td>\n",
              "      <td>8789.00</td>\n",
              "      <td>6714.00</td>\n",
              "      <td>nan</td>\n",
              "      <td>nan</td>\n",
              "      <td>122487.00</td>\n",
              "      <td>nan</td>\n",
              "      <td>nan</td>\n",
              "      <td>nan</td>\n",
              "      <td>nan</td>\n",
              "    </tr>\n",
              "    <tr>\n",
              "      <th>2</th>\n",
              "      <td>1992_ARIZONA</td>\n",
              "      <td>ARIZONA</td>\n",
              "      <td>1992</td>\n",
              "      <td>nan</td>\n",
              "      <td>3258079.00</td>\n",
              "      <td>297888.00</td>\n",
              "      <td>1369815.00</td>\n",
              "      <td>1590376.00</td>\n",
              "      <td>3401580.00</td>\n",
              "      <td>1435908.00</td>\n",
              "      <td>1007732.00</td>\n",
              "      <td>nan</td>\n",
              "      <td>609114.00</td>\n",
              "      <td>2544.00</td>\n",
              "      <td>53497.00</td>\n",
              "      <td>55433.00</td>\n",
              "      <td>49081.00</td>\n",
              "      <td>37410.00</td>\n",
              "      <td>nan</td>\n",
              "      <td>nan</td>\n",
              "      <td>673477.00</td>\n",
              "      <td>215.00</td>\n",
              "      <td>265.00</td>\n",
              "      <td>209.00</td>\n",
              "      <td>nan</td>\n",
              "    </tr>\n",
              "    <tr>\n",
              "      <th>3</th>\n",
              "      <td>1992_ARKANSAS</td>\n",
              "      <td>ARKANSAS</td>\n",
              "      <td>1992</td>\n",
              "      <td>nan</td>\n",
              "      <td>1711959.00</td>\n",
              "      <td>178571.00</td>\n",
              "      <td>958785.00</td>\n",
              "      <td>574603.00</td>\n",
              "      <td>1743022.00</td>\n",
              "      <td>964323.00</td>\n",
              "      <td>483488.00</td>\n",
              "      <td>nan</td>\n",
              "      <td>145212.00</td>\n",
              "      <td>808.00</td>\n",
              "      <td>33511.00</td>\n",
              "      <td>34632.00</td>\n",
              "      <td>36011.00</td>\n",
              "      <td>27651.00</td>\n",
              "      <td>nan</td>\n",
              "      <td>nan</td>\n",
              "      <td>441490.00</td>\n",
              "      <td>210.00</td>\n",
              "      <td>256.00</td>\n",
              "      <td>211.00</td>\n",
              "      <td>nan</td>\n",
              "    </tr>\n",
              "    <tr>\n",
              "      <th>4</th>\n",
              "      <td>1992_CALIFORNIA</td>\n",
              "      <td>CALIFORNIA</td>\n",
              "      <td>1992</td>\n",
              "      <td>nan</td>\n",
              "      <td>26260025.00</td>\n",
              "      <td>2072470.00</td>\n",
              "      <td>16546514.00</td>\n",
              "      <td>7641041.00</td>\n",
              "      <td>27138832.00</td>\n",
              "      <td>14358922.00</td>\n",
              "      <td>8520926.00</td>\n",
              "      <td>nan</td>\n",
              "      <td>2044688.00</td>\n",
              "      <td>59067.00</td>\n",
              "      <td>431763.00</td>\n",
              "      <td>418418.00</td>\n",
              "      <td>363296.00</td>\n",
              "      <td>270675.00</td>\n",
              "      <td>nan</td>\n",
              "      <td>nan</td>\n",
              "      <td>5254844.00</td>\n",
              "      <td>208.00</td>\n",
              "      <td>261.00</td>\n",
              "      <td>202.00</td>\n",
              "      <td>nan</td>\n",
              "    </tr>\n",
              "  </tbody>\n",
              "</table>\n",
              "</div>"
            ],
            "text/plain": [
              "       PRIMARY_KEY       STATE  ...  AVG_READING_4_SCORE  AVG_READING_8_SCORE\n",
              "0     1992_ALABAMA     ALABAMA  ...               207.00                  nan\n",
              "1      1992_ALASKA      ALASKA  ...                  nan                  nan\n",
              "2     1992_ARIZONA     ARIZONA  ...               209.00                  nan\n",
              "3    1992_ARKANSAS    ARKANSAS  ...               211.00                  nan\n",
              "4  1992_CALIFORNIA  CALIFORNIA  ...               202.00                  nan\n",
              "\n",
              "[5 rows x 25 columns]"
            ]
          },
          "metadata": {
            "tags": []
          },
          "execution_count": 5
        }
      ]
    },
    {
      "cell_type": "code",
      "metadata": {
        "id": "BNHYvtJLMKEG",
        "colab_type": "code",
        "colab": {}
      },
      "source": [
        "data=original_data.copy()"
      ],
      "execution_count": 0,
      "outputs": []
    },
    {
      "cell_type": "code",
      "metadata": {
        "id": "_ADCN9WBMMxD",
        "colab_type": "code",
        "outputId": "7d1dd578-cf7b-46d6-ee41-828e44f17c4c",
        "colab": {
          "base_uri": "https://localhost:8080/",
          "height": 422
        }
      },
      "source": [
        "data"
      ],
      "execution_count": 7,
      "outputs": [
        {
          "output_type": "execute_result",
          "data": {
            "text/html": [
              "<div>\n",
              "<style scoped>\n",
              "    .dataframe tbody tr th:only-of-type {\n",
              "        vertical-align: middle;\n",
              "    }\n",
              "\n",
              "    .dataframe tbody tr th {\n",
              "        vertical-align: top;\n",
              "    }\n",
              "\n",
              "    .dataframe thead th {\n",
              "        text-align: right;\n",
              "    }\n",
              "</style>\n",
              "<table border=\"1\" class=\"dataframe\">\n",
              "  <thead>\n",
              "    <tr style=\"text-align: right;\">\n",
              "      <th></th>\n",
              "      <th>PRIMARY_KEY</th>\n",
              "      <th>STATE</th>\n",
              "      <th>YEAR</th>\n",
              "      <th>ENROLL</th>\n",
              "      <th>TOTAL_REVENUE</th>\n",
              "      <th>FEDERAL_REVENUE</th>\n",
              "      <th>STATE_REVENUE</th>\n",
              "      <th>LOCAL_REVENUE</th>\n",
              "      <th>TOTAL_EXPENDITURE</th>\n",
              "      <th>INSTRUCTION_EXPENDITURE</th>\n",
              "      <th>SUPPORT_SERVICES_EXPENDITURE</th>\n",
              "      <th>OTHER_EXPENDITURE</th>\n",
              "      <th>CAPITAL_OUTLAY_EXPENDITURE</th>\n",
              "      <th>GRADES_PK_G</th>\n",
              "      <th>GRADES_KG_G</th>\n",
              "      <th>GRADES_4_G</th>\n",
              "      <th>GRADES_8_G</th>\n",
              "      <th>GRADES_12_G</th>\n",
              "      <th>GRADES_1_8_G</th>\n",
              "      <th>GRADES_9_12_G</th>\n",
              "      <th>GRADES_ALL_G</th>\n",
              "      <th>AVG_MATH_4_SCORE</th>\n",
              "      <th>AVG_MATH_8_SCORE</th>\n",
              "      <th>AVG_READING_4_SCORE</th>\n",
              "      <th>AVG_READING_8_SCORE</th>\n",
              "    </tr>\n",
              "  </thead>\n",
              "  <tbody>\n",
              "    <tr>\n",
              "      <th>0</th>\n",
              "      <td>1992_ALABAMA</td>\n",
              "      <td>ALABAMA</td>\n",
              "      <td>1992</td>\n",
              "      <td>nan</td>\n",
              "      <td>2678885.00</td>\n",
              "      <td>304177.00</td>\n",
              "      <td>1659028.00</td>\n",
              "      <td>715680.00</td>\n",
              "      <td>2653798.00</td>\n",
              "      <td>1481703.00</td>\n",
              "      <td>735036.00</td>\n",
              "      <td>nan</td>\n",
              "      <td>174053.00</td>\n",
              "      <td>8224.00</td>\n",
              "      <td>55460.00</td>\n",
              "      <td>57948.00</td>\n",
              "      <td>58025.00</td>\n",
              "      <td>41167.00</td>\n",
              "      <td>nan</td>\n",
              "      <td>nan</td>\n",
              "      <td>731634.00</td>\n",
              "      <td>208.00</td>\n",
              "      <td>252.00</td>\n",
              "      <td>207.00</td>\n",
              "      <td>nan</td>\n",
              "    </tr>\n",
              "    <tr>\n",
              "      <th>1</th>\n",
              "      <td>1992_ALASKA</td>\n",
              "      <td>ALASKA</td>\n",
              "      <td>1992</td>\n",
              "      <td>nan</td>\n",
              "      <td>1049591.00</td>\n",
              "      <td>106780.00</td>\n",
              "      <td>720711.00</td>\n",
              "      <td>222100.00</td>\n",
              "      <td>972488.00</td>\n",
              "      <td>498362.00</td>\n",
              "      <td>350902.00</td>\n",
              "      <td>nan</td>\n",
              "      <td>37451.00</td>\n",
              "      <td>2371.00</td>\n",
              "      <td>10152.00</td>\n",
              "      <td>9748.00</td>\n",
              "      <td>8789.00</td>\n",
              "      <td>6714.00</td>\n",
              "      <td>nan</td>\n",
              "      <td>nan</td>\n",
              "      <td>122487.00</td>\n",
              "      <td>nan</td>\n",
              "      <td>nan</td>\n",
              "      <td>nan</td>\n",
              "      <td>nan</td>\n",
              "    </tr>\n",
              "    <tr>\n",
              "      <th>2</th>\n",
              "      <td>1992_ARIZONA</td>\n",
              "      <td>ARIZONA</td>\n",
              "      <td>1992</td>\n",
              "      <td>nan</td>\n",
              "      <td>3258079.00</td>\n",
              "      <td>297888.00</td>\n",
              "      <td>1369815.00</td>\n",
              "      <td>1590376.00</td>\n",
              "      <td>3401580.00</td>\n",
              "      <td>1435908.00</td>\n",
              "      <td>1007732.00</td>\n",
              "      <td>nan</td>\n",
              "      <td>609114.00</td>\n",
              "      <td>2544.00</td>\n",
              "      <td>53497.00</td>\n",
              "      <td>55433.00</td>\n",
              "      <td>49081.00</td>\n",
              "      <td>37410.00</td>\n",
              "      <td>nan</td>\n",
              "      <td>nan</td>\n",
              "      <td>673477.00</td>\n",
              "      <td>215.00</td>\n",
              "      <td>265.00</td>\n",
              "      <td>209.00</td>\n",
              "      <td>nan</td>\n",
              "    </tr>\n",
              "    <tr>\n",
              "      <th>3</th>\n",
              "      <td>1992_ARKANSAS</td>\n",
              "      <td>ARKANSAS</td>\n",
              "      <td>1992</td>\n",
              "      <td>nan</td>\n",
              "      <td>1711959.00</td>\n",
              "      <td>178571.00</td>\n",
              "      <td>958785.00</td>\n",
              "      <td>574603.00</td>\n",
              "      <td>1743022.00</td>\n",
              "      <td>964323.00</td>\n",
              "      <td>483488.00</td>\n",
              "      <td>nan</td>\n",
              "      <td>145212.00</td>\n",
              "      <td>808.00</td>\n",
              "      <td>33511.00</td>\n",
              "      <td>34632.00</td>\n",
              "      <td>36011.00</td>\n",
              "      <td>27651.00</td>\n",
              "      <td>nan</td>\n",
              "      <td>nan</td>\n",
              "      <td>441490.00</td>\n",
              "      <td>210.00</td>\n",
              "      <td>256.00</td>\n",
              "      <td>211.00</td>\n",
              "      <td>nan</td>\n",
              "    </tr>\n",
              "    <tr>\n",
              "      <th>4</th>\n",
              "      <td>1992_CALIFORNIA</td>\n",
              "      <td>CALIFORNIA</td>\n",
              "      <td>1992</td>\n",
              "      <td>nan</td>\n",
              "      <td>26260025.00</td>\n",
              "      <td>2072470.00</td>\n",
              "      <td>16546514.00</td>\n",
              "      <td>7641041.00</td>\n",
              "      <td>27138832.00</td>\n",
              "      <td>14358922.00</td>\n",
              "      <td>8520926.00</td>\n",
              "      <td>nan</td>\n",
              "      <td>2044688.00</td>\n",
              "      <td>59067.00</td>\n",
              "      <td>431763.00</td>\n",
              "      <td>418418.00</td>\n",
              "      <td>363296.00</td>\n",
              "      <td>270675.00</td>\n",
              "      <td>nan</td>\n",
              "      <td>nan</td>\n",
              "      <td>5254844.00</td>\n",
              "      <td>208.00</td>\n",
              "      <td>261.00</td>\n",
              "      <td>202.00</td>\n",
              "      <td>nan</td>\n",
              "    </tr>\n",
              "    <tr>\n",
              "      <th>...</th>\n",
              "      <td>...</td>\n",
              "      <td>...</td>\n",
              "      <td>...</td>\n",
              "      <td>...</td>\n",
              "      <td>...</td>\n",
              "      <td>...</td>\n",
              "      <td>...</td>\n",
              "      <td>...</td>\n",
              "      <td>...</td>\n",
              "      <td>...</td>\n",
              "      <td>...</td>\n",
              "      <td>...</td>\n",
              "      <td>...</td>\n",
              "      <td>...</td>\n",
              "      <td>...</td>\n",
              "      <td>...</td>\n",
              "      <td>...</td>\n",
              "      <td>...</td>\n",
              "      <td>...</td>\n",
              "      <td>...</td>\n",
              "      <td>...</td>\n",
              "      <td>...</td>\n",
              "      <td>...</td>\n",
              "      <td>...</td>\n",
              "      <td>...</td>\n",
              "    </tr>\n",
              "    <tr>\n",
              "      <th>1710</th>\n",
              "      <td>2019_VIRGINIA</td>\n",
              "      <td>VIRGINIA</td>\n",
              "      <td>2019</td>\n",
              "      <td>nan</td>\n",
              "      <td>nan</td>\n",
              "      <td>nan</td>\n",
              "      <td>nan</td>\n",
              "      <td>nan</td>\n",
              "      <td>nan</td>\n",
              "      <td>nan</td>\n",
              "      <td>nan</td>\n",
              "      <td>nan</td>\n",
              "      <td>nan</td>\n",
              "      <td>nan</td>\n",
              "      <td>nan</td>\n",
              "      <td>nan</td>\n",
              "      <td>nan</td>\n",
              "      <td>nan</td>\n",
              "      <td>nan</td>\n",
              "      <td>nan</td>\n",
              "      <td>nan</td>\n",
              "      <td>247.00</td>\n",
              "      <td>287.00</td>\n",
              "      <td>224.00</td>\n",
              "      <td>262.00</td>\n",
              "    </tr>\n",
              "    <tr>\n",
              "      <th>1711</th>\n",
              "      <td>2019_WASHINGTON</td>\n",
              "      <td>WASHINGTON</td>\n",
              "      <td>2019</td>\n",
              "      <td>nan</td>\n",
              "      <td>nan</td>\n",
              "      <td>nan</td>\n",
              "      <td>nan</td>\n",
              "      <td>nan</td>\n",
              "      <td>nan</td>\n",
              "      <td>nan</td>\n",
              "      <td>nan</td>\n",
              "      <td>nan</td>\n",
              "      <td>nan</td>\n",
              "      <td>nan</td>\n",
              "      <td>nan</td>\n",
              "      <td>nan</td>\n",
              "      <td>nan</td>\n",
              "      <td>nan</td>\n",
              "      <td>nan</td>\n",
              "      <td>nan</td>\n",
              "      <td>nan</td>\n",
              "      <td>240.00</td>\n",
              "      <td>286.00</td>\n",
              "      <td>220.00</td>\n",
              "      <td>266.00</td>\n",
              "    </tr>\n",
              "    <tr>\n",
              "      <th>1712</th>\n",
              "      <td>2019_WEST_VIRGINIA</td>\n",
              "      <td>WEST_VIRGINIA</td>\n",
              "      <td>2019</td>\n",
              "      <td>nan</td>\n",
              "      <td>nan</td>\n",
              "      <td>nan</td>\n",
              "      <td>nan</td>\n",
              "      <td>nan</td>\n",
              "      <td>nan</td>\n",
              "      <td>nan</td>\n",
              "      <td>nan</td>\n",
              "      <td>nan</td>\n",
              "      <td>nan</td>\n",
              "      <td>nan</td>\n",
              "      <td>nan</td>\n",
              "      <td>nan</td>\n",
              "      <td>nan</td>\n",
              "      <td>nan</td>\n",
              "      <td>nan</td>\n",
              "      <td>nan</td>\n",
              "      <td>nan</td>\n",
              "      <td>231.00</td>\n",
              "      <td>272.00</td>\n",
              "      <td>213.00</td>\n",
              "      <td>256.00</td>\n",
              "    </tr>\n",
              "    <tr>\n",
              "      <th>1713</th>\n",
              "      <td>2019_WISCONSIN</td>\n",
              "      <td>WISCONSIN</td>\n",
              "      <td>2019</td>\n",
              "      <td>nan</td>\n",
              "      <td>nan</td>\n",
              "      <td>nan</td>\n",
              "      <td>nan</td>\n",
              "      <td>nan</td>\n",
              "      <td>nan</td>\n",
              "      <td>nan</td>\n",
              "      <td>nan</td>\n",
              "      <td>nan</td>\n",
              "      <td>nan</td>\n",
              "      <td>nan</td>\n",
              "      <td>nan</td>\n",
              "      <td>nan</td>\n",
              "      <td>nan</td>\n",
              "      <td>nan</td>\n",
              "      <td>nan</td>\n",
              "      <td>nan</td>\n",
              "      <td>nan</td>\n",
              "      <td>242.00</td>\n",
              "      <td>289.00</td>\n",
              "      <td>220.00</td>\n",
              "      <td>267.00</td>\n",
              "    </tr>\n",
              "    <tr>\n",
              "      <th>1714</th>\n",
              "      <td>2019_WYOMING</td>\n",
              "      <td>WYOMING</td>\n",
              "      <td>2019</td>\n",
              "      <td>nan</td>\n",
              "      <td>nan</td>\n",
              "      <td>nan</td>\n",
              "      <td>nan</td>\n",
              "      <td>nan</td>\n",
              "      <td>nan</td>\n",
              "      <td>nan</td>\n",
              "      <td>nan</td>\n",
              "      <td>nan</td>\n",
              "      <td>nan</td>\n",
              "      <td>nan</td>\n",
              "      <td>nan</td>\n",
              "      <td>nan</td>\n",
              "      <td>nan</td>\n",
              "      <td>nan</td>\n",
              "      <td>nan</td>\n",
              "      <td>nan</td>\n",
              "      <td>nan</td>\n",
              "      <td>246.00</td>\n",
              "      <td>286.00</td>\n",
              "      <td>227.00</td>\n",
              "      <td>265.00</td>\n",
              "    </tr>\n",
              "  </tbody>\n",
              "</table>\n",
              "<p>1715 rows × 25 columns</p>\n",
              "</div>"
            ],
            "text/plain": [
              "             PRIMARY_KEY  ... AVG_READING_8_SCORE\n",
              "0           1992_ALABAMA  ...                 nan\n",
              "1            1992_ALASKA  ...                 nan\n",
              "2           1992_ARIZONA  ...                 nan\n",
              "3          1992_ARKANSAS  ...                 nan\n",
              "4        1992_CALIFORNIA  ...                 nan\n",
              "...                  ...  ...                 ...\n",
              "1710       2019_VIRGINIA  ...              262.00\n",
              "1711     2019_WASHINGTON  ...              266.00\n",
              "1712  2019_WEST_VIRGINIA  ...              256.00\n",
              "1713      2019_WISCONSIN  ...              267.00\n",
              "1714        2019_WYOMING  ...              265.00\n",
              "\n",
              "[1715 rows x 25 columns]"
            ]
          },
          "metadata": {
            "tags": []
          },
          "execution_count": 7
        }
      ]
    },
    {
      "cell_type": "code",
      "metadata": {
        "id": "4_-z_kV0MQKA",
        "colab_type": "code",
        "outputId": "d65f7792-864d-450f-f9ce-d7449e1928c9",
        "colab": {
          "base_uri": "https://localhost:8080/",
          "height": 554
        }
      },
      "source": [
        "data.info()"
      ],
      "execution_count": 8,
      "outputs": [
        {
          "output_type": "stream",
          "text": [
            "<class 'pandas.core.frame.DataFrame'>\n",
            "RangeIndex: 1715 entries, 0 to 1714\n",
            "Data columns (total 25 columns):\n",
            " #   Column                        Non-Null Count  Dtype  \n",
            "---  ------                        --------------  -----  \n",
            " 0   PRIMARY_KEY                   1715 non-null   object \n",
            " 1   STATE                         1715 non-null   object \n",
            " 2   YEAR                          1715 non-null   int64  \n",
            " 3   ENROLL                        1224 non-null   float64\n",
            " 4   TOTAL_REVENUE                 1275 non-null   float64\n",
            " 5   FEDERAL_REVENUE               1275 non-null   float64\n",
            " 6   STATE_REVENUE                 1275 non-null   float64\n",
            " 7   LOCAL_REVENUE                 1275 non-null   float64\n",
            " 8   TOTAL_EXPENDITURE             1275 non-null   float64\n",
            " 9   INSTRUCTION_EXPENDITURE       1275 non-null   float64\n",
            " 10  SUPPORT_SERVICES_EXPENDITURE  1275 non-null   float64\n",
            " 11  OTHER_EXPENDITURE             1224 non-null   float64\n",
            " 12  CAPITAL_OUTLAY_EXPENDITURE    1275 non-null   float64\n",
            " 13  GRADES_PK_G                   1542 non-null   float64\n",
            " 14  GRADES_KG_G                   1632 non-null   float64\n",
            " 15  GRADES_4_G                    1632 non-null   float64\n",
            " 16  GRADES_8_G                    1632 non-null   float64\n",
            " 17  GRADES_12_G                   1632 non-null   float64\n",
            " 18  GRADES_1_8_G                  1020 non-null   float64\n",
            " 19  GRADES_9_12_G                 1071 non-null   float64\n",
            " 20  GRADES_ALL_G                  1632 non-null   float64\n",
            " 21  AVG_MATH_4_SCORE              565 non-null    float64\n",
            " 22  AVG_MATH_8_SCORE              602 non-null    float64\n",
            " 23  AVG_READING_4_SCORE           650 non-null    float64\n",
            " 24  AVG_READING_8_SCORE           562 non-null    float64\n",
            "dtypes: float64(22), int64(1), object(2)\n",
            "memory usage: 335.1+ KB\n"
          ],
          "name": "stdout"
        }
      ]
    },
    {
      "cell_type": "code",
      "metadata": {
        "id": "H9JPDmmIQPfp",
        "colab_type": "code",
        "colab": {}
      },
      "source": [
        "data.loc[:,'TOTAL_REVENUE'].fillna(data.loc[:,'TOTAL_REVENUE'].interpolate(),inplace=True) # Revenue içindeki boş verilerin doldurulması"
      ],
      "execution_count": 0,
      "outputs": []
    },
    {
      "cell_type": "code",
      "metadata": {
        "id": "jWGt7PrtOqWI",
        "colab_type": "code",
        "outputId": "5599a052-2b41-447e-8b44-c25e9cc9e5fb",
        "colab": {
          "base_uri": "https://localhost:8080/",
          "height": 281
        }
      },
      "source": [
        "plt.boxplot(data[\"TOTAL_REVENUE\"], whis=1.5) #Revenue Aykırı değerleri\n",
        "plt.title(\"Total Revenue kutu grafiği (whis=1.5)\")\n",
        "plt.show()"
      ],
      "execution_count": 10,
      "outputs": [
        {
          "output_type": "display_data",
          "data": {
            "image/png": "[encoded data removed]",
            "text/plain": [
              "<Figure size 432x288 with 1 Axes>"
            ]
          },
          "metadata": {
            "tags": [],
            "needs_background": "light"
          }
        }
      ]
    },
    {
      "cell_type": "code",
      "metadata": {
        "id": "oWKhjqrdM98p",
        "colab_type": "code",
        "outputId": "fecce140-f170-4ab5-e092-74e01ace69d8",
        "colab": {
          "base_uri": "https://localhost:8080/",
          "height": 84
        }
      },
      "source": [
        "from scipy.stats.mstats import winsorize # Revenue Veri ayıklama\n",
        "\n",
        "winsorize_revenue = winsorize(data[\"TOTAL_REVENUE\"], (0, 0.15))\n",
        "\n",
        "winsorize_revenue"
      ],
      "execution_count": 21,
      "outputs": [
        {
          "output_type": "execute_result",
          "data": {
            "text/plain": [
              "masked_array(data=[2678885., 1049591., 3258079., ..., 2044669., 2044669.,\n",
              "                   2044669.],\n",
              "             mask=False,\n",
              "       fill_value=1e+20)"
            ]
          },
          "metadata": {
            "tags": []
          },
          "execution_count": 21
        }
      ]
    },
    {
      "cell_type": "code",
      "metadata": {
        "id": "rnNaIf6LNYZ0",
        "colab_type": "code",
        "outputId": "746d4153-c0a1-44aa-b8ca-42feb4ea84d0",
        "colab": {
          "base_uri": "https://localhost:8080/",
          "height": 281
        }
      },
      "source": [
        "plt.boxplot(winsorize_revenue) # Ayıklanmış Revenue Çizimi\n",
        "plt.title(\"Total Revenue kutu grafiği\")\n",
        "plt.show()"
      ],
      "execution_count": 22,
      "outputs": [
        {
          "output_type": "display_data",
          "data": {
            "image/png": "[encoded data removed]",
            "text/plain": [
              "<Figure size 432x288 with 1 Axes>"
            ]
          },
          "metadata": {
            "tags": [],
            "needs_background": "light"
          }
        }
      ]
    },
    {
      "cell_type": "code",
      "metadata": {
        "id": "I_BLz_UKUB55",
        "colab_type": "code",
        "colab": {}
      },
      "source": [
        "data.loc[:,'TOTAL_EXPENDITURE'].fillna(data.loc[:,'TOTAL_EXPENDITURE'].interpolate(),inplace=True) # Önce boş verileri mean ile doldurdum"
      ],
      "execution_count": 0,
      "outputs": []
    },
    {
      "cell_type": "code",
      "metadata": {
        "id": "enbOn_hKUS0C",
        "colab_type": "code",
        "outputId": "798e34f1-20bc-4000-9c3d-23c703cf4bb2",
        "colab": {
          "base_uri": "https://localhost:8080/",
          "height": 281
        }
      },
      "source": [
        "plt.boxplot(data[\"TOTAL_EXPENDITURE\"], whis=1.5) # Aykırı değerlerin gösterimi expenditure için\n",
        "plt.title(\"Total Expenditure kutu grafiği (whis=1.5)\")\n",
        "plt.show()"
      ],
      "execution_count": 24,
      "outputs": [
        {
          "output_type": "display_data",
          "data": {
            "image/png": "[encoded data removed]",
            "text/plain": [
              "<Figure size 432x288 with 1 Axes>"
            ]
          },
          "metadata": {
            "tags": [],
            "needs_background": "light"
          }
        }
      ]
    },
    {
      "cell_type": "code",
      "metadata": {
        "id": "QYfsO868Ug4_",
        "colab_type": "code",
        "outputId": "abf70a0e-2212-4936-adc0-d5ca4e1d2837",
        "colab": {
          "base_uri": "https://localhost:8080/",
          "height": 84
        }
      },
      "source": [
        "from scipy.stats.mstats import winsorize # Aykırıların ayıklanması\n",
        "\n",
        "winsorize_expenditure = winsorize(data[\"TOTAL_EXPENDITURE\"], (0, 0.15))\n",
        "\n",
        "winsorize_expenditure"
      ],
      "execution_count": 25,
      "outputs": [
        {
          "output_type": "execute_result",
          "data": {
            "text/plain": [
              "masked_array(data=[2653798.,  972488., 3401580., ..., 2034229., 2034229.,\n",
              "                   2034229.],\n",
              "             mask=False,\n",
              "       fill_value=1e+20)"
            ]
          },
          "metadata": {
            "tags": []
          },
          "execution_count": 25
        }
      ]
    },
    {
      "cell_type": "code",
      "metadata": {
        "id": "OH-oA9ZkUpXp",
        "colab_type": "code",
        "outputId": "c5e0e256-8d5b-443e-e3c2-5aad86c4911d",
        "colab": {
          "base_uri": "https://localhost:8080/",
          "height": 281
        }
      },
      "source": [
        "plt.boxplot(winsorize_expenditure) # Ayıklanmışın çizimi\n",
        "plt.title(\"Total Expenditure kutu grafiği\")\n",
        "plt.show()"
      ],
      "execution_count": 26,
      "outputs": [
        {
          "output_type": "display_data",
          "data": {
            "image/png": "[encoded data removed]",
            "text/plain": [
              "<Figure size 432x288 with 1 Axes>"
            ]
          },
          "metadata": {
            "tags": [],
            "needs_background": "light"
          }
        }
      ]
    },
    {
      "cell_type": "code",
      "metadata": {
        "id": "7uHoh3ceU-YT",
        "colab_type": "code",
        "outputId": "003a50b6-03a4-4d14-fc80-d3507d4352b3",
        "colab": {
          "base_uri": "https://localhost:8080/",
          "height": 218
        }
      },
      "source": [
        "data['Butce_Acigi']=data.loc[:,'TOTAL_EXPENDITURE']-data.loc[:,'TOTAL_REVENUE'] # Bütçe açığı için önce Fark Alma\n",
        "data['Butce_Acigi']"
      ],
      "execution_count": 27,
      "outputs": [
        {
          "output_type": "execute_result",
          "data": {
            "text/plain": [
              "0      -25087.00\n",
              "1      -77103.00\n",
              "2      143501.00\n",
              "3       31063.00\n",
              "4      878807.00\n",
              "          ...   \n",
              "1710   -10440.00\n",
              "1711   -10440.00\n",
              "1712   -10440.00\n",
              "1713   -10440.00\n",
              "1714   -10440.00\n",
              "Name: Butce_Acigi, Length: 1715, dtype: float64"
            ]
          },
          "metadata": {
            "tags": []
          },
          "execution_count": 27
        }
      ]
    },
    {
      "cell_type": "code",
      "metadata": {
        "id": "xiztV1MagVVT",
        "colab_type": "code",
        "outputId": "06514d01-159a-4ba8-ba88-c6091c90562f",
        "colab": {
          "base_uri": "https://localhost:8080/",
          "height": 281
        }
      },
      "source": [
        "plt.boxplot(data[\"Butce_Acigi\"], whis=1.5)\n",
        "plt.title(\"Butce Açığı kutu grafiği (whis=1.5)\")\n",
        "plt.show()"
      ],
      "execution_count": 30,
      "outputs": [
        {
          "output_type": "display_data",
          "data": {
            "image/png": "[encoded data removed]",
            "text/plain": [
              "<Figure size 432x288 with 1 Axes>"
            ]
          },
          "metadata": {
            "tags": [],
            "needs_background": "light"
          }
        }
      ]
    },
    {
      "cell_type": "code",
      "metadata": {
        "id": "9SLVtxdGhoNi",
        "colab_type": "code",
        "outputId": "13fe93b7-95d3-4d22-e498-d970b495560f",
        "colab": {
          "base_uri": "https://localhost:8080/",
          "height": 84
        }
      },
      "source": [
        "from scipy.stats.mstats import winsorize\n",
        "\n",
        "winsorize_butceAcigi = winsorize(data[\"Butce_Acigi\"], (0, 0.1))\n",
        "\n",
        "winsorize_butceAcigi"
      ],
      "execution_count": 37,
      "outputs": [
        {
          "output_type": "execute_result",
          "data": {
            "text/plain": [
              "masked_array(data=[-25087., -77103., 143501., ..., -10440., -10440.,\n",
              "                   -10440.],\n",
              "             mask=False,\n",
              "       fill_value=1e+20)"
            ]
          },
          "metadata": {
            "tags": []
          },
          "execution_count": 37
        }
      ]
    },
    {
      "cell_type": "code",
      "metadata": {
        "id": "nGZz3NZmh2if",
        "colab_type": "code",
        "outputId": "6fa0548d-d5d7-4364-aa91-5bb65ca2ee7e",
        "colab": {
          "base_uri": "https://localhost:8080/",
          "height": 281
        }
      },
      "source": [
        "plt.boxplot(winsorize_butceAcigi) # Önce Fark alma sonradan Ayıklama çizimi\n",
        "plt.title(\"Butce Acigi kutu grafiği\")\n",
        "plt.show()"
      ],
      "execution_count": 38,
      "outputs": [
        {
          "output_type": "display_data",
          "data": {
            "image/png": "[encoded data removed]",
            "text/plain": [
              "<Figure size 432x288 with 1 Axes>"
            ]
          },
          "metadata": {
            "tags": [],
            "needs_background": "light"
          }
        }
      ]
    },
    {
      "cell_type": "code",
      "metadata": {
        "id": "F325iYIMhK2Q",
        "colab_type": "code",
        "outputId": "14af841f-d260-4643-d8f0-2ceaa8c4a14e",
        "colab": {
          "base_uri": "https://localhost:8080/",
          "height": 281
        }
      },
      "source": [
        "winsorize_butce=winsorize_expenditure-winsorize_revenue #Önce Ayıklama sonra Fark alma çizimi\n",
        "\n",
        "plt.boxplot(winsorize_butce)\n",
        "plt.title(\"Butce kutu grafiği\")\n",
        "plt.show()"
      ],
      "execution_count": 39,
      "outputs": [
        {
          "output_type": "display_data",
          "data": {
            "image/png": "[encoded data removed]",
            "text/plain": [
              "<Figure size 432x288 with 1 Axes>"
            ]
          },
          "metadata": {
            "tags": [],
            "needs_background": "light"
          }
        }
      ]
    },
    {
      "cell_type": "markdown",
      "metadata": {
        "id": "y2pbJkz_jMyP",
        "colab_type": "text"
      },
      "source": [
        "Bu ikisi arasındaki fark ilk başta ayıklama yapıp fark aldığımızda negatif değerlerin ve aykırı değerlerin fazlalaştığını ve yaptığım analizde ortalama değerden çok uzaklaşıldığını görmekteyim"
      ]
    }
  ]
}